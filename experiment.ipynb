{
 "cells": [
  {
   "cell_type": "code",
   "execution_count": 8,
   "metadata": {},
   "outputs": [],
   "source": [
    "import open3d\n",
    "import pye57\n",
    "import numpy as np\n",
    "from utils import *"
   ]
  },
  {
   "cell_type": "code",
   "execution_count": 10,
   "metadata": {},
   "outputs": [
    {
     "ename": "AttributeError",
     "evalue": "'E57' object has no attribute 'get_points'",
     "output_type": "error",
     "traceback": [
      "\u001b[0;31m---------------------------------------------------------------------------\u001b[0m",
      "\u001b[0;31mAttributeError\u001b[0m                            Traceback (most recent call last)",
      "Input \u001b[0;32mIn [10]\u001b[0m, in \u001b[0;36m<module>\u001b[0;34m\u001b[0m\n\u001b[0;32m----> 1\u001b[0m \u001b[43mconvert_e57_to_ply\u001b[49m\u001b[43m(\u001b[49m\u001b[38;5;124;43m'\u001b[39;49m\u001b[38;5;124;43mdata/pumpNoInvalidPoints.e57\u001b[39;49m\u001b[38;5;124;43m'\u001b[39;49m\u001b[43m,\u001b[49m\u001b[38;5;124;43m'\u001b[39;49m\u001b[38;5;124;43mtest.ply\u001b[39;49m\u001b[38;5;124;43m'\u001b[39;49m\u001b[43m)\u001b[49m\n",
      "File \u001b[0;32m~/Desktop/simple_seg/utils.py:17\u001b[0m, in \u001b[0;36mconvert_e57_to_ply\u001b[0;34m(input_e57_file, output_ply_file)\u001b[0m\n\u001b[1;32m     15\u001b[0m \u001b[38;5;66;03m# Read .e57 file\u001b[39;00m\n\u001b[1;32m     16\u001b[0m reader \u001b[38;5;241m=\u001b[39m pye57\u001b[38;5;241m.\u001b[39mE57(input_e57_file)\n\u001b[0;32m---> 17\u001b[0m point_cloud_data \u001b[38;5;241m=\u001b[39m \u001b[43mreader\u001b[49m\u001b[38;5;241;43m.\u001b[39;49m\u001b[43mget_points\u001b[49m()  \u001b[38;5;66;03m# get points from e57\u001b[39;00m\n\u001b[1;32m     19\u001b[0m \u001b[38;5;66;03m# Convert to numpy array (x, y, z)\u001b[39;00m\n\u001b[1;32m     20\u001b[0m points \u001b[38;5;241m=\u001b[39m np\u001b[38;5;241m.\u001b[39marray([(point[\u001b[38;5;241m0\u001b[39m], point[\u001b[38;5;241m1\u001b[39m], point[\u001b[38;5;241m2\u001b[39m]) \u001b[38;5;28;01mfor\u001b[39;00m point \u001b[38;5;129;01min\u001b[39;00m point_cloud_data])\n",
      "\u001b[0;31mAttributeError\u001b[0m: 'E57' object has no attribute 'get_points'"
     ]
    }
   ],
   "source": [
    "convert_e57_to_ply('data/pumpNoInvalidPoints.e57','test.ply')"
   ]
  },
  {
   "cell_type": "code",
   "execution_count": 3,
   "metadata": {},
   "outputs": [],
   "source": [
    "# Import Open3D library\n",
    "import open3d as o3d\n",
    "\n",
    "# Load the point cloud (assuming you converted the .e56 to .pcd or .ply)\n",
    "pcd = o3d.io.read_point_cloud(\"/home/viggo/Desktop/simple_seg/data/1726971736_Dragon 2.5_ply.ply\")  # Or use .pcd format\n",
    "\n",
    "# Visualize the point cloud in the notebook\n",
    "o3d.visualization.draw_geometries([pcd])"
   ]
  }
 ],
 "metadata": {
  "kernelspec": {
   "display_name": "Python 3 (ipykernel)",
   "language": "python",
   "name": "python3"
  },
  "language_info": {
   "codemirror_mode": {
    "name": "ipython",
    "version": 3
   },
   "file_extension": ".py",
   "mimetype": "text/x-python",
   "name": "python",
   "nbconvert_exporter": "python",
   "pygments_lexer": "ipython3",
   "version": "3.9.7"
  }
 },
 "nbformat": 4,
 "nbformat_minor": 2
}
